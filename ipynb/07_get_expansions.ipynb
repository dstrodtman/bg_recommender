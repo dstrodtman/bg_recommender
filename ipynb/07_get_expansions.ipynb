{
 "cells": [
  {
   "cell_type": "markdown",
   "metadata": {},
   "source": [
    "# Get game expansions to eliminate overrepresentation"
   ]
  },
  {
   "cell_type": "code",
   "execution_count": 3,
   "metadata": {},
   "outputs": [],
   "source": [
    "import psycopg2 as pg2\n",
    "from psycopg2.extras import RealDictCursor\n",
    "import requests\n",
    "import xml.etree.ElementTree as ET\n",
    "import time\n",
    "import csv"
   ]
  },
  {
   "cell_type": "code",
   "execution_count": 4,
   "metadata": {},
   "outputs": [],
   "source": [
    "def con_cur_to_bgg_db():\n",
    "    con = pg2.connect(host='34.216.22.202',\n",
    "                  dbname='postgres',\n",
    "                  user='postgres')\n",
    "    cur = con.cursor(cursor_factory=RealDictCursor)\n",
    "    return con, cur\n",
    "    \n",
    "def insert_re_ex(exp_list):\n",
    "    con, cur = con_cur_to_bgg_db()\n",
    "    cur.execute('INSERT INTO re_ex VALUES\\\n",
    "            {};'.format(\", \".join(repr(e) for e in exp_list)))\n",
    "    con.commit()\n",
    "    con.close()\n",
    "\n",
    "def get_id_list(page_num):\n",
    "    ids = []\n",
    "\n",
    "    with open('../games/page_{}'.format(page_num, 'r')) as f:\n",
    "        reader = csv.reader(f)\n",
    "        for row in reader:\n",
    "            ids.append(row[0])\n",
    "            \n",
    "    api_id_list = ','.join(ids)  \n",
    "    return api_id_list, ids\n",
    "\n",
    "def get_game_tree(api_id_list):\n",
    "    api_q = 'http://www.boardgamegeek.com/xmlapi/boardgame/{}?stats=1'.format(api_id_list)\n",
    "    r = requests.get(api_q)\n",
    "    tree = ET.fromstring(r.text)\n",
    "\n",
    "    return tree\n",
    "\n",
    "def get_game_expansions(gid, tree):\n",
    "\n",
    "    root = tree.find(\"boardgame[@objectid='{}']\".format(gid))\n",
    "\n",
    "    reimp = [item.attrib['objectid'] for item in root.findall('boardgameimplementation')]\n",
    "\n",
    "    exp = [item.attrib['objectid'] for item in root.findall('boardgameexpansion')]\n",
    "    \n",
    "    exp_list = []\n",
    "    exp_list.extend(list(zip([gid]*len(exp), exp)))\n",
    "    exp_list.extend(list(zip([gid]*len(reimp), reimp)))\n",
    "    \n",
    "    if exp_list:\n",
    "        insert_re_ex(exp_list)"
   ]
  },
  {
   "cell_type": "code",
   "execution_count": null,
   "metadata": {},
   "outputs": [],
   "source": [
    "for page in range(1, 101):\n",
    "    api_id_list, ids = get_id_list(page)\n",
    "    tree = get_game_tree(api_id_list)\n",
    "    for gid in ids:\n",
    "        get_game_expansions(gid, tree)\n",
    "    time.sleep(1)"
   ]
  }
 ],
 "metadata": {
  "kernelspec": {
   "display_name": "Python 3",
   "language": "python",
   "name": "python3"
  },
  "language_info": {
   "codemirror_mode": {
    "name": "ipython",
    "version": 3
   },
   "file_extension": ".py",
   "mimetype": "text/x-python",
   "name": "python",
   "nbconvert_exporter": "python",
   "pygments_lexer": "ipython3",
   "version": "3.6.3"
  }
 },
 "nbformat": 4,
 "nbformat_minor": 2
}
