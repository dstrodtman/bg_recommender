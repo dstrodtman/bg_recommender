{
 "cells": [
  {
   "cell_type": "markdown",
   "metadata": {},
   "source": [
    "# Scrape users using selenium with PhantomJS"
   ]
  },
  {
   "cell_type": "code",
   "execution_count": 2,
   "metadata": {},
   "outputs": [],
   "source": [
    "from selenium import webdriver\n",
    "from selenium.webdriver.common.by import By\n",
    "from selenium.webdriver.support.ui import WebDriverWait\n",
    "from selenium.webdriver.support import expected_conditions as EC\n",
    "from scrapy.selector import Selector\n",
    "import re\n",
    "import time\n",
    "import csv\n",
    "import os\n",
    "import pymongo\n",
    "from pymongo import InsertOne\n",
    "from tqdm import tqdm\n",
    "from itertools import islice\n",
    "\n",
    "def read_gid_link_numratings(start, stop):\n",
    "    gids = []\n",
    "    glinks = []\n",
    "    numratings = []\n",
    "    with open('csv/numratings', 'r') as f:\n",
    "        reader = csv.reader(islice(f, start, stop+1))\n",
    "        for row in reader:\n",
    "            gids.append(row[0])\n",
    "            glinks.append(row[1])\n",
    "            numratings.append(row[2])\n",
    "    return gids, glinks, numratings\n",
    "\n",
    "def set_max_pages(numrating):\n",
    "    numrating = int(numrating)\n",
    "    if numrating%50 != 0:\n",
    "        max_pages = numrating//50 + 1\n",
    "    else:\n",
    "        max_pages = int(numrating/50)\n",
    "    return max_pages\n",
    "\n",
    "def write_rating_csv(user_names, gid, ratings, curr_page):\n",
    "    with open('csv/users/{}_{}'.format(gid, curr_page), 'a') as f:\n",
    "        for i, user in enumerate(user_names):\n",
    "            f.write('{},{},{}\\n'.format(user, gid, ratings[i]))\n",
    "            \n",
    "            \n",
    "def check_page_loaded(driver, last_page_el):\n",
    "    first_rater = []\n",
    "    page_el = []\n",
    "    while not first_rater or not page_el:\n",
    "        try:\n",
    "            first_rater = driver.find_element_by_xpath(\"//ratings-module//li[@class='summary-item summary-rating-item']\\\n",
    "                                                        [1]/div[@class='comment-header']/div/div/a\")\n",
    "            page_el = first_rater.text\n",
    "        except:\n",
    "            time.sleep(.5)\n",
    "    while page_el == last_page_el:\n",
    "        try:\n",
    "            first_rater = driver.find_element_by_xpath(\"//ratings-module//li[@class='summary-item summary-rating-item']\\\n",
    "                                                        [1]/div[@class='comment-header']/div/div/a\")\n",
    "            page_el = first_rater.text\n",
    "        except:\n",
    "            time.sleep(.5)\n",
    "            \n",
    "    return page_el\n",
    "\n",
    "def get_game_raters(gid, glink, max_pages, curr_page=1):\n",
    "\n",
    "    driver = webdriver.PhantomJS()\n",
    "    \n",
    "    last_page_el = []\n",
    "\n",
    "    while curr_page <= max_pages:\n",
    "        driver.get('https://boardgamegeek.com{}/ratings?pageid={}&rated=1'.format(glink, curr_page))\n",
    "        \n",
    "        last_page_el = check_page_loaded(driver, last_page_el)\n",
    "        \n",
    "        html = driver.page_source\n",
    "\n",
    "        xpath_user_names = \"//ratings-module//div[@class='comment-header']/div/div/a/text()\"\n",
    "        xpath_user_links = \"//ratings-module//div[@class='comment-header']/div/div/a/@href\"\n",
    "        xpath_ratings = \"//ratings-module//li/div[@class='summary-item-callout']/div/text()\"\n",
    "\n",
    "        user_names = Selector(text=html).xpath(xpath_user_names).extract()\n",
    "        user_links = Selector(text=html).xpath(xpath_user_links).extract()\n",
    "        dirty_ratings = Selector(text=html).xpath(xpath_ratings).extract()\n",
    "\n",
    "        ratings = []\n",
    "        for rating in dirty_ratings:\n",
    "            ratings.append(re.sub('\\s', '', rating))\n",
    "\n",
    "        write_rating_csv(user_names, gid, ratings, curr_page)\n",
    "\n",
    "        curr_page += 1\n",
    "        \n",
    "    driver.quit()\n",
    "\n",
    "def get_user_ratings(start, stop):\n",
    "    gids, glinks, numratings = read_gid_link_numratings(start, stop)\n",
    "    for gid, glink, numrating in tqdm(zip(gids, glinks, numratings)):\n",
    "        max_pages = set_max_pages(numrating)\n",
    "        get_game_raters(gid, glink, max_pages)"
   ]
  },
  {
   "cell_type": "code",
   "execution_count": null,
   "metadata": {
    "scrolled": true
   },
   "outputs": [
    {
     "name": "stderr",
     "output_type": "stream",
     "text": [
      "\r",
      "0it [00:00, ?it/s]"
     ]
    }
   ],
   "source": [
    "get_user_ratings(27, 75)"
   ]
  }
 ],
 "metadata": {
  "kernelspec": {
   "display_name": "Python 3",
   "language": "python",
   "name": "python3"
  },
  "language_info": {
   "codemirror_mode": {
    "name": "ipython",
    "version": 3
   },
   "file_extension": ".py",
   "mimetype": "text/x-python",
   "name": "python",
   "nbconvert_exporter": "python",
   "pygments_lexer": "ipython3",
   "version": "3.6.3"
  }
 },
 "nbformat": 4,
 "nbformat_minor": 2
}
