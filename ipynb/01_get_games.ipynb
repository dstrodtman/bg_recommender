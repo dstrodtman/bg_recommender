{
 "cells": [
  {
   "cell_type": "code",
   "execution_count": 69,
   "metadata": {},
   "outputs": [],
   "source": [
    "import requests\n",
    "from scrapy.selector import Selector\n",
    "from scrapy.http import HtmlResponse\n",
    "import re\n",
    "import csv\n",
    "import time"
   ]
  },
  {
   "cell_type": "code",
   "execution_count": 6,
   "metadata": {},
   "outputs": [],
   "source": [
    "def scrape_game_names(page_num):\n",
    "    url = 'https://boardgamegeek.com/browse/boardgame/page/{}?sort=numvoters&sortdir=desc'.format(page_num)\n",
    "    r = requests.get(url)\n",
    "    html = r.text\n",
    "    xpath_names = \"//tr/td[3]/div/a/text()\"\n",
    "    xpath_links = \"//tr/td[3]/div/a/@href\"\n",
    "    \n",
    "    names = Selector(text=html).xpath(xpath_names).extract()\n",
    "    links = Selector(text=html).xpath(xpath_links).extract()\n",
    "    \n",
    "    return names, links"
   ]
  },
  {
   "cell_type": "code",
   "execution_count": 25,
   "metadata": {},
   "outputs": [],
   "source": [
    "def get_game_ids(links):\n",
    "    search = re.compile('\\/(\\d+)\\/').search\n",
    "    ids = [m.group(1) for m in map(search, links) if m]\n",
    "    return ids"
   ]
  },
  {
   "cell_type": "code",
   "execution_count": 48,
   "metadata": {},
   "outputs": [],
   "source": [
    "def save_game_csv(page_num, names, links, ids):\n",
    "    rows = zip(ids, names, links)\n",
    "    \n",
    "    with open('games/page_{}'.format(page_num), 'w') as f:\n",
    "        writer = csv.writer(f)\n",
    "        for row in rows:\n",
    "            writer.writerow(row)"
   ]
  },
  {
   "cell_type": "code",
   "execution_count": 73,
   "metadata": {},
   "outputs": [],
   "source": [
    "for page_num in range(1,101):\n",
    "    names, links = scrape_game_names(page_num)\n",
    "    ids = get_game_ids(links)\n",
    "    save_game_csv(page_num, names, links, ids)\n",
    "    time.sleep(2)"
   ]
  }
 ],
 "metadata": {
  "kernelspec": {
   "display_name": "Python 3",
   "language": "python",
   "name": "python3"
  },
  "language_info": {
   "codemirror_mode": {
    "name": "ipython",
    "version": 3
   },
   "file_extension": ".py",
   "mimetype": "text/x-python",
   "name": "python",
   "nbconvert_exporter": "python",
   "pygments_lexer": "ipython3",
   "version": "3.6.3"
  }
 },
 "nbformat": 4,
 "nbformat_minor": 2
}
