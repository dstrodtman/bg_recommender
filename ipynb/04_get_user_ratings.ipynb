{
 "cells": [
  {
   "cell_type": "code",
   "execution_count": 1,
   "metadata": {},
   "outputs": [],
   "source": [
    "import psycopg2 as pg2\n",
    "from psycopg2.extras import RealDictCursor\n",
    "import requests\n",
    "import xml.etree.ElementTree as ET\n",
    "import time"
   ]
  },
  {
   "cell_type": "code",
   "execution_count": 2,
   "metadata": {},
   "outputs": [],
   "source": [
    "def con_cur_to_bgg_db():\n",
    "    con = pg2.connect(host='34.216.22.202',\n",
    "                  dbname='postgres',\n",
    "                  user='postgres')\n",
    "    cur = con.cursor(cursor_factory=RealDictCursor)\n",
    "    return con, cur\n",
    "\n",
    "def get_sql_unames(offset, limit):\n",
    "    con, cur = con_cur_to_bgg_db()\n",
    "    cur.execute('SELECT * FROM users OFFSET {} LIMIT {};'.format(offset, limit))\n",
    "    ulist = cur.fetchall()\n",
    "    con.commit()\n",
    "    con.close()\n",
    "    return ulist\n",
    "\n",
    "def select_user(ulist, index):\n",
    "    uid = ulist[index]['uid']\n",
    "    uname = ulist[index]['uname']\n",
    "    return uid, uname\n",
    "\n",
    "def request_user_api(uname):\n",
    "    url = 'http://www.boardgamegeek.com/xmlapi/collection/{}?rated=1'.format(uname)\n",
    "    r = requests.get(url)\n",
    "    if (r.status_code != 202) and (r.status_code != 200):\n",
    "        print('{} error on {}'.format(r.status_code, uname))\n",
    "    return r\n",
    "\n",
    "def request_user_ratings(offset, limit):\n",
    "    filename = 'ratings_log/{}_{}'.format(offset, limit)\n",
    "    with open(filename, 'w') as f:\n",
    "        f.write('{}\\n'.format(time.ctime()))\n",
    "    ulist = get_sql_unames(offset, limit)\n",
    "    for index in range(len(ulist)):\n",
    "        uid, uname = select_user(ulist, index)\n",
    "        r = request_user_api(uname)\n",
    "        start = time.time()\n",
    "        with open(filename, 'a') as f:\n",
    "            f.write('{}, {}\\n'.format(r.status_code, uname))\n",
    "        pause = 5 - (time.time() - start)\n",
    "        if pause > 0:\n",
    "            time.sleep(pause)\n",
    "    with open(filename, 'a') as f:\n",
    "        f.write(time.ctime())"
   ]
  },
  {
   "cell_type": "code",
   "execution_count": 71,
   "metadata": {},
   "outputs": [],
   "source": [
    "request_user_ratings(offset=200, limit=100)"
   ]
  },
  {
   "cell_type": "code",
   "execution_count": 39,
   "metadata": {},
   "outputs": [],
   "source": [
    "def get_user_api(uname):\n",
    "    url = 'http://www.boardgamegeek.com/xmlapi/collection/{}?rated=1'.format(uname)\n",
    "    r = requests.get(url)\n",
    "    if (r.status_code != 202) and (r.status_code != 200):\n",
    "        print('{} error on {}'.format(r.status_code, uname))\n",
    "    while r.status_code == 202:\n",
    "        time.sleep(5)\n",
    "        r = requests.get(url)\n",
    "    if (r.status_code != 202) and (r.status_code != 200):\n",
    "        print('{} error on {}'.format(r.status_code, uname))\n",
    "    elif r.status_code == 200:\n",
    "        return r\n",
    "\n",
    "def select_user(ulist, index):\n",
    "    uid = ulist[index]['uid']\n",
    "    uname = ulist[index]['uname']\n",
    "    return uid, uname\n",
    "\n",
    "def get_user_ratings(uid, r):\n",
    "    tree = ET.fromstring(r.text)\n",
    "    item_list = tree.findall('item')\n",
    "    user_ratings = []\n",
    "    for item in item_list:\n",
    "        gid = item.attrib['objectid']\n",
    "        rating = item.find('stats/rating').attrib['value']\n",
    "        user_ratings.append((uid, gid, rating))\n",
    "    return user_ratings\n",
    "\n",
    "def insert_user_ratings(user_ratings):\n",
    "    con, cur = con_cur_to_bgg_db()\n",
    "    cur.execute('INSERT INTO ratings VALUES\\\n",
    "            {};'.format(\", \".join(repr(e) for e in user_ratings)))\n",
    "    con.commit()\n",
    "    con.close()\n",
    "    \n",
    "def iterate_users(ulist):\n",
    "    for index in range(len(ulist)):\n",
    "        try:\n",
    "            uid, uname = select_user(ulist, index)\n",
    "            r = get_user_api(uname)\n",
    "            start = time.time()\n",
    "            user_ratings = get_user_ratings(uid, r)\n",
    "            insert_user_ratings(user_ratings)\n",
    "            pause = 5 - (time.time() - start)\n",
    "            if pause > 0:\n",
    "                time.sleep(pause)\n",
    "        except:\n",
    "            with open('ratings_log/get_errors', 'a') as f:\n",
    "                f.write('Error on {}\\n'.format(ulist[index]))"
   ]
  },
  {
   "cell_type": "code",
   "execution_count": 27,
   "metadata": {},
   "outputs": [],
   "source": [
    "ulist = get_sql_unames(0, 4000)"
   ]
  },
  {
   "cell_type": "code",
   "execution_count": null,
   "metadata": {
    "scrolled": true
   },
   "outputs": [],
   "source": [
    "iterate_users(ulist)"
   ]
  }
 ],
 "metadata": {
  "kernelspec": {
   "display_name": "Python 3",
   "language": "python",
   "name": "python3"
  },
  "language_info": {
   "codemirror_mode": {
    "name": "ipython",
    "version": 3
   },
   "file_extension": ".py",
   "mimetype": "text/x-python",
   "name": "python",
   "nbconvert_exporter": "python",
   "pygments_lexer": "ipython3",
   "version": "3.6.3"
  }
 },
 "nbformat": 4,
 "nbformat_minor": 2
}
