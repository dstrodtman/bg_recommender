{
 "cells": [
  {
   "cell_type": "code",
   "execution_count": 4,
   "metadata": {},
   "outputs": [],
   "source": [
    "import numpy as np"
   ]
  },
  {
   "cell_type": "code",
   "execution_count": 2,
   "metadata": {},
   "outputs": [
    {
     "name": "stdout",
     "output_type": "stream",
     "text": [
      "/home/jovyan\n"
     ]
    }
   ],
   "source": [
    "cd .."
   ]
  },
  {
   "cell_type": "code",
   "execution_count": 3,
   "metadata": {},
   "outputs": [],
   "source": [
    "from lib.helper import sizeof"
   ]
  },
  {
   "cell_type": "code",
   "execution_count": 12,
   "metadata": {},
   "outputs": [],
   "source": [
    "row = np.random.randint(1, 10, 10000)"
   ]
  },
  {
   "cell_type": "code",
   "execution_count": 13,
   "metadata": {},
   "outputs": [],
   "source": [
    "test = {}\n",
    "for i in range(10000):\n",
    "    test[i] = row"
   ]
  },
  {
   "cell_type": "code",
   "execution_count": 41,
   "metadata": {},
   "outputs": [],
   "source": [
    "sim = np.random.randint(0, 9999, 50)"
   ]
  },
  {
   "cell_type": "code",
   "execution_count": 50,
   "metadata": {},
   "outputs": [],
   "source": [
    "foo = [(np.random.randint(0, 9999, 50), np.random.randint(0, 9999, 50), np.random.rand(10000), np.random.rand(10000)) for x in range(7)]"
   ]
  },
  {
   "cell_type": "code",
   "execution_count": 51,
   "metadata": {
    "scrolled": true
   },
   "outputs": [
    {
     "data": {
      "text/plain": [
       "tuple"
      ]
     },
     "execution_count": 51,
     "metadata": {},
     "output_type": "execute_result"
    }
   ],
   "source": [
    "type(foo[0])"
   ]
  },
  {
   "cell_type": "code",
   "execution_count": 86,
   "metadata": {},
   "outputs": [
    {
     "data": {
      "text/plain": [
       "[(array([3513, 7990, 6040, 3484, 8808, 4439, 5472, 6627, 6241, 4745, 9519,\n",
       "         2553, 1786, 3274,  988, 1150,  250, 8562, 1376, 4501, 5233, 3899,\n",
       "          352, 4601, 2717, 8635,  610, 8116, 2477,   48, 7837, 4374, 9950,\n",
       "         2422, 3919, 4265, 3763, 9590, 5527, 4454, 6392, 2563, 3500, 8787,\n",
       "         8795, 5297, 1486, 6379, 4973, 6816]),\n",
       "  array([9527, 3059, 4654, 2769, 9546, 5557, 3330, 8392, 9079, 6066, 8794,\n",
       "         6201, 6019, 9091, 3065, 5576, 4277, 1086, 9064, 5095, 8903, 2177,\n",
       "         8505, 4707, 2201, 3518, 5102, 4363, 9748, 3677, 2286, 9341, 5752,\n",
       "         7027, 9750,  487, 8515, 4814, 3985, 2882, 1649, 3103,  916, 4704,\n",
       "          459, 9711, 4356, 6790, 1694, 2557]),\n",
       "  array([ 0.41773133,  0.02838067,  0.51891014, ...,  0.68634368,\n",
       "          0.90531818,  0.50229032]),\n",
       "  array([ 0.07467551,  0.53234783,  0.21306196, ...,  0.71274754,\n",
       "          0.30121287,  0.68003955])),\n",
       " (array([ 193, 7503, 1709,  896, 1500, 6355, 1767, 7910, 8855, 8392, 2652,\n",
       "         6128, 7593, 2858, 7163, 9581, 6063,  186, 4081, 8053, 1589,  236,\n",
       "         9571, 1905, 4103, 4673,   44, 9344, 4156, 1103, 7665, 1530, 7652,\n",
       "         4320, 8012, 7597, 6516, 7759, 4790, 4256,  179, 7424, 7324, 1156,\n",
       "         2135, 2291, 9915, 5094, 7702, 4802]),\n",
       "  array([9574, 6358, 9344, 5092, 8807, 2326, 9002, 7213, 9971, 9175, 7572,\n",
       "         2933, 7530, 7960, 2613,  603, 1356, 3696, 6900, 1832, 7467, 5279,\n",
       "         2006, 3786, 7513, 4232, 5870, 7461, 1314, 3430, 9905, 2354, 7988,\n",
       "         4773, 8312, 7335,  880,  603, 8338, 4533, 6661, 5428, 4817, 6476,\n",
       "         9203, 6138, 9597, 2556, 4957, 8600]),\n",
       "  array([ 0.33986865,  0.58899606,  0.97658674, ...,  0.58686191,\n",
       "          0.24333135,  0.59688249]),\n",
       "  array([ 0.51327285,  0.96134874,  0.23460506, ...,  0.64012884,\n",
       "          0.56058818,  0.72067416])),\n",
       " (array([2306,  969, 7796,  405,  741, 9118, 6435, 7197, 8191, 6930, 5780,\n",
       "          190, 3141, 9157, 8271, 8444, 3383, 8353, 1641, 3334, 2840, 5834,\n",
       "         6727, 3034, 4620, 1171, 9707, 6059, 4777, 3060, 9708, 1909, 1909,\n",
       "         7167, 2952, 5612, 3027, 8245, 2762, 7705, 7847, 6440, 9495, 9197,\n",
       "          989,  589, 1121, 3390, 7743,   28]),\n",
       "  array([2618, 5101, 8606, 8756, 7663, 5562, 1766,  899, 5397, 4619, 6965,\n",
       "         9856, 4203, 4124, 2053, 9715, 5925, 8428, 9484, 7658, 9110, 4220,\n",
       "         8509, 9380, 1581, 3635, 6462, 6233, 8142, 6928, 1876,  599, 9034,\n",
       "          392, 3443, 5723, 8485, 1970, 9056,  960, 2449, 8575,  161, 4670,\n",
       "         3985, 3902, 1291, 8776, 7590, 8072]),\n",
       "  array([ 0.31282847,  0.53000395,  0.64377022, ...,  0.61421903,\n",
       "          0.03701612,  0.07139978]),\n",
       "  array([ 0.48571265,  0.93861309,  0.78447374, ...,  0.4658246 ,\n",
       "          0.58707149,  0.47757334])),\n",
       " (array([3329, 4762, 8303, 7664,  921, 8677, 5480, 8414, 7492, 6608, 7349,\n",
       "         3487,  343, 7540, 7696, 2174, 7130, 8351, 6269, 4088, 5281, 9792,\n",
       "         5063, 4167, 2386, 8399, 5055, 8867, 7471, 4076, 7186, 3393, 8253,\n",
       "          625,  229, 7546, 8851, 3111, 2290,  720, 5661, 5964, 6991, 1641,\n",
       "         1394, 1568, 1105, 2080, 2188, 9542]),\n",
       "  array([1578,  313, 1544, 4143, 4033, 2651, 1508, 1791, 2900, 7382, 1238,\n",
       "         6516, 9746, 3918, 3461, 5686,  809, 4662, 1822,  536, 5143, 7720,\n",
       "         6115, 6326, 7607, 9628, 5970, 5062,  544, 5537, 6249, 7852, 9128,\n",
       "          222, 1499, 3708, 5701, 1581, 5397, 3573, 4340, 8482, 5388,  847,\n",
       "         3753, 7308,   80, 3065,  730, 2157]),\n",
       "  array([ 0.32886791,  0.09870745,  0.34375025, ...,  0.16072641,\n",
       "          0.67528712,  0.16096156]),\n",
       "  array([ 0.30282214,  0.74011202,  0.80683935, ...,  0.88102287,\n",
       "          0.0924876 ,  0.34625678])),\n",
       " (array([7598, 9677, 5814, 9268, 4976, 9177, 5255, 8631, 3942, 2021,  648,\n",
       "         9752, 2287, 4221, 9556, 7744, 8979, 8084, 5547, 5706,  630, 8479,\n",
       "         5937, 5432,  391, 5703, 2333, 2834, 5797, 3742, 1732, 2705, 1987,\n",
       "         6211, 8106, 1994, 9846, 1820, 8908, 9822, 7338, 5802, 4554, 5186,\n",
       "          884, 1134, 2479, 5280, 6506, 9917]),\n",
       "  array([4243, 4809, 6024, 5671, 7946, 1438, 6876, 9288, 2248, 9363, 9654,\n",
       "         9121, 9381, 9643, 9667, 1655, 7375, 1975, 2862, 8896, 3964, 2243,\n",
       "         5121, 8132,  327,    6, 6939, 5960, 1968, 3557, 5669, 3057, 7885,\n",
       "         4155, 7183, 4307, 2732, 6107, 4850, 7848, 4946, 9393, 2874, 3751,\n",
       "         4792, 3481, 7321, 2372, 1085, 2059]),\n",
       "  array([ 0.12015225,  0.03568038,  0.57804523, ...,  0.46670678,\n",
       "          0.4522875 ,  0.72653075]),\n",
       "  array([ 0.26774284,  0.58861233,  0.20088641, ...,  0.6744181 ,\n",
       "          0.66101894,  0.9702814 ])),\n",
       " (array([9934, 9799, 6600,  786, 7681, 8810, 3668, 3257, 5522, 6465, 9190,\n",
       "         1378, 4017, 5186,  687, 9210, 4814, 7178, 1790, 4743, 1136, 3992,\n",
       "         2598, 7982, 1462, 9723, 3748, 5489, 1963, 6969, 9164, 4691, 7131,\n",
       "         5213, 6273,  536,  965, 9880, 9388, 3517, 2383, 4521, 6950, 8259,\n",
       "         6291, 2819,  812, 7558, 3492, 3831]),\n",
       "  array([4578, 2012, 7385, 8325, 3385, 8342, 2501, 4928,  311, 2529, 2532,\n",
       "         8933, 9547, 3559, 9576, 9741,  921, 9777, 6604, 7940, 6179, 1848,\n",
       "          837, 5372, 9897, 2850, 5285, 3459, 2741, 5673, 3784,   61, 8110,\n",
       "         5284, 4074, 9789, 8738,  986, 4304, 2716, 7935, 2234, 7359, 6701,\n",
       "           78, 5412, 9441, 5196, 7234, 1014]),\n",
       "  array([ 0.54903825,  0.35335984,  0.4818887 , ...,  0.1116966 ,\n",
       "          0.17674637,  0.04735794]),\n",
       "  array([ 0.24947724,  0.29605047,  0.45880818, ...,  0.30711193,\n",
       "          0.64874791,  0.89067711])),\n",
       " (array([5286, 8246, 5479, 5209, 7450, 2599, 4839, 4203,    7, 3656, 5045,\n",
       "         8016, 1967, 5709, 7514, 5701,   20, 7134, 4150, 6223, 1493, 8547,\n",
       "          965, 7900, 1396, 8661,  798, 9020, 8627, 3873, 6718, 8745,  252,\n",
       "         3320, 4023, 9738,  757, 8323, 4985, 7420,  765, 1357, 7273, 4928,\n",
       "         9450, 5004, 4660, 4313, 1152, 2388]),\n",
       "  array([9007, 7208, 8294, 4863, 5824, 3797, 1903, 2624, 1667, 4094, 9092,\n",
       "         6679, 8805, 4493, 8180, 4695, 2178, 1410, 5831, 5733, 2640, 2137,\n",
       "          142,  117, 4488, 6866, 5233, 4524, 4083, 7030, 1868, 9378, 9037,\n",
       "         3820, 1187, 1881, 5415,  746, 9219, 8609, 7055, 8643, 7317,  324,\n",
       "         2579, 6615, 8075, 7357, 1478, 4240]),\n",
       "  array([ 0.89865864,  0.05223538,  0.92971753, ...,  0.8375469 ,\n",
       "          0.54237448,  0.58674637]),\n",
       "  array([ 0.78681245,  0.48697259,  0.07170122, ...,  0.0918779 ,\n",
       "          0.79910377,  0.04323   ]))]"
      ]
     },
     "execution_count": 86,
     "metadata": {},
     "output_type": "execute_result"
    }
   ],
   "source": [
    "foo"
   ]
  },
  {
   "cell_type": "code",
   "execution_count": 82,
   "metadata": {},
   "outputs": [
    {
     "data": {
      "text/plain": [
       "(array([3513, 7990, 6040, 3484, 8808, 4439, 5472, 6627, 6241, 4745, 9519,\n",
       "        2553, 1786, 3274,  988, 1150,  250, 8562, 1376, 4501, 5233, 3899,\n",
       "         352, 4601, 2717, 8635,  610, 8116, 2477,   48, 7837, 4374, 9950,\n",
       "        2422, 3919, 4265, 3763, 9590, 5527, 4454, 6392, 2563, 3500, 8787,\n",
       "        8795, 5297, 1486, 6379, 4973, 6816]),\n",
       " array([ 193, 7503, 1709,  896, 1500, 6355, 1767, 7910, 8855, 8392, 2652,\n",
       "        6128, 7593, 2858, 7163, 9581, 6063,  186, 4081, 8053, 1589,  236,\n",
       "        9571, 1905, 4103, 4673,   44, 9344, 4156, 1103, 7665, 1530, 7652,\n",
       "        4320, 8012, 7597, 6516, 7759, 4790, 4256,  179, 7424, 7324, 1156,\n",
       "        2135, 2291, 9915, 5094, 7702, 4802]),\n",
       " array([2306,  969, 7796,  405,  741, 9118, 6435, 7197, 8191, 6930, 5780,\n",
       "         190, 3141, 9157, 8271, 8444, 3383, 8353, 1641, 3334, 2840, 5834,\n",
       "        6727, 3034, 4620, 1171, 9707, 6059, 4777, 3060, 9708, 1909, 1909,\n",
       "        7167, 2952, 5612, 3027, 8245, 2762, 7705, 7847, 6440, 9495, 9197,\n",
       "         989,  589, 1121, 3390, 7743,   28]),\n",
       " array([3329, 4762, 8303, 7664,  921, 8677, 5480, 8414, 7492, 6608, 7349,\n",
       "        3487,  343, 7540, 7696, 2174, 7130, 8351, 6269, 4088, 5281, 9792,\n",
       "        5063, 4167, 2386, 8399, 5055, 8867, 7471, 4076, 7186, 3393, 8253,\n",
       "         625,  229, 7546, 8851, 3111, 2290,  720, 5661, 5964, 6991, 1641,\n",
       "        1394, 1568, 1105, 2080, 2188, 9542]),\n",
       " array([7598, 9677, 5814, 9268, 4976, 9177, 5255, 8631, 3942, 2021,  648,\n",
       "        9752, 2287, 4221, 9556, 7744, 8979, 8084, 5547, 5706,  630, 8479,\n",
       "        5937, 5432,  391, 5703, 2333, 2834, 5797, 3742, 1732, 2705, 1987,\n",
       "        6211, 8106, 1994, 9846, 1820, 8908, 9822, 7338, 5802, 4554, 5186,\n",
       "         884, 1134, 2479, 5280, 6506, 9917]),\n",
       " array([9934, 9799, 6600,  786, 7681, 8810, 3668, 3257, 5522, 6465, 9190,\n",
       "        1378, 4017, 5186,  687, 9210, 4814, 7178, 1790, 4743, 1136, 3992,\n",
       "        2598, 7982, 1462, 9723, 3748, 5489, 1963, 6969, 9164, 4691, 7131,\n",
       "        5213, 6273,  536,  965, 9880, 9388, 3517, 2383, 4521, 6950, 8259,\n",
       "        6291, 2819,  812, 7558, 3492, 3831]),\n",
       " array([5286, 8246, 5479, 5209, 7450, 2599, 4839, 4203,    7, 3656, 5045,\n",
       "        8016, 1967, 5709, 7514, 5701,   20, 7134, 4150, 6223, 1493, 8547,\n",
       "         965, 7900, 1396, 8661,  798, 9020, 8627, 3873, 6718, 8745,  252,\n",
       "        3320, 4023, 9738,  757, 8323, 4985, 7420,  765, 1357, 7273, 4928,\n",
       "        9450, 5004, 4660, 4313, 1152, 2388]))"
      ]
     },
     "execution_count": 82,
     "metadata": {},
     "output_type": "execute_result"
    }
   ],
   "source": [
    "tuple(foo[x][0] for x in range(len(foo)))"
   ]
  },
  {
   "cell_type": "code",
   "execution_count": 76,
   "metadata": {},
   "outputs": [
    {
     "name": "stdout",
     "output_type": "stream",
     "text": [
      "47.3 µs ± 2.14 µs per loop (mean ± std. dev. of 7 runs, 10000 loops each)\n"
     ]
    }
   ],
   "source": [
    "%%timeit\n",
    "item_bag = set()\n",
    "for x in range(len(foo)):\n",
    "    item_bag.update(foo[x][0])"
   ]
  },
  {
   "cell_type": "code",
   "execution_count": 129,
   "metadata": {},
   "outputs": [],
   "source": [
    "import uuid"
   ]
  },
  {
   "cell_type": "code",
   "execution_count": 152,
   "metadata": {},
   "outputs": [],
   "source": [
    "foo = {}"
   ]
  },
  {
   "cell_type": "code",
   "execution_count": 154,
   "metadata": {},
   "outputs": [],
   "source": [
    "foo['bar'] = 13"
   ]
  },
  {
   "cell_type": "code",
   "execution_count": 155,
   "metadata": {},
   "outputs": [],
   "source": [
    "del foo['bar']"
   ]
  },
  {
   "cell_type": "code",
   "execution_count": 156,
   "metadata": {},
   "outputs": [
    {
     "data": {
      "text/plain": [
       "{}"
      ]
     },
     "execution_count": 156,
     "metadata": {},
     "output_type": "execute_result"
    }
   ],
   "source": [
    "foo"
   ]
  },
  {
   "cell_type": "code",
   "execution_count": 149,
   "metadata": {},
   "outputs": [],
   "source": [
    "try:\n",
    "    assert name\n",
    "except:\n",
    "    name = 'foo'"
   ]
  },
  {
   "cell_type": "code",
   "execution_count": 151,
   "metadata": {},
   "outputs": [],
   "source": [
    "assert name"
   ]
  },
  {
   "cell_type": "code",
   "execution_count": 163,
   "metadata": {},
   "outputs": [],
   "source": [
    "foo = str(uuid.uuid4())"
   ]
  },
  {
   "cell_type": "code",
   "execution_count": 164,
   "metadata": {},
   "outputs": [],
   "source": [
    "bar = {}"
   ]
  },
  {
   "cell_type": "code",
   "execution_count": 165,
   "metadata": {},
   "outputs": [],
   "source": [
    "bar[foo] = 12"
   ]
  },
  {
   "cell_type": "code",
   "execution_count": 166,
   "metadata": {
    "scrolled": true
   },
   "outputs": [
    {
     "data": {
      "text/plain": [
       "{'70ff005e-c317-43b5-b1c3-10b195c8e19f': 12}"
      ]
     },
     "execution_count": 166,
     "metadata": {},
     "output_type": "execute_result"
    }
   ],
   "source": [
    "bar"
   ]
  },
  {
   "cell_type": "code",
   "execution_count": 171,
   "metadata": {},
   "outputs": [],
   "source": [
    "keys, values = zip(*bar.items())"
   ]
  },
  {
   "cell_type": "code",
   "execution_count": 174,
   "metadata": {
    "scrolled": true
   },
   "outputs": [
    {
     "data": {
      "text/plain": [
       "(12,)"
      ]
     },
     "execution_count": 174,
     "metadata": {},
     "output_type": "execute_result"
    }
   ],
   "source": [
    "values"
   ]
  },
  {
   "cell_type": "code",
   "execution_count": 175,
   "metadata": {},
   "outputs": [],
   "source": [
    "import sched"
   ]
  },
  {
   "cell_type": "code",
   "execution_count": 177,
   "metadata": {},
   "outputs": [],
   "source": [
    "s = sched.scheduler(time.time, time.sleep)"
   ]
  },
  {
   "cell_type": "code",
   "execution_count": null,
   "metadata": {},
   "outputs": [],
   "source": [
    "s.enter()"
   ]
  },
  {
   "cell_type": "code",
   "execution_count": 118,
   "metadata": {},
   "outputs": [
    {
     "data": {
      "text/plain": [
       "8.0096e-05"
      ]
     },
     "execution_count": 118,
     "metadata": {},
     "output_type": "execute_result"
    }
   ],
   "source": [
    "sizeof.sizeof(foo[1][3])"
   ]
  },
  {
   "cell_type": "code",
   "execution_count": 158,
   "metadata": {
    "scrolled": true
   },
   "outputs": [
    {
     "data": {
      "text/plain": [
       "5.008731842041016"
      ]
     },
     "execution_count": 158,
     "metadata": {},
     "output_type": "execute_result"
    }
   ],
   "source": [
    "start = time.time()\n",
    "time.sleep(5)\n",
    "end = time.time()\n",
    "\n",
    "end-start"
   ]
  },
  {
   "cell_type": "code",
   "execution_count": 161,
   "metadata": {},
   "outputs": [
    {
     "data": {
      "text/plain": [
       "1800"
      ]
     },
     "execution_count": 161,
     "metadata": {},
     "output_type": "execute_result"
    }
   ],
   "source": [
    "60*30"
   ]
  },
  {
   "cell_type": "code",
   "execution_count": 119,
   "metadata": {},
   "outputs": [],
   "source": [
    "import time"
   ]
  },
  {
   "cell_type": "code",
   "execution_count": 157,
   "metadata": {},
   "outputs": [
    {
     "data": {
      "text/plain": [
       "1513560187.0112476"
      ]
     },
     "execution_count": 157,
     "metadata": {},
     "output_type": "execute_result"
    }
   ],
   "source": [
    "time.time()"
   ]
  },
  {
   "cell_type": "code",
   "execution_count": null,
   "metadata": {},
   "outputs": [],
   "source": []
  },
  {
   "cell_type": "code",
   "execution_count": 122,
   "metadata": {},
   "outputs": [
    {
     "data": {
      "text/plain": [
       "1513556925.4130094"
      ]
     },
     "execution_count": 122,
     "metadata": {},
     "output_type": "execute_result"
    }
   ],
   "source": [
    "time.time()"
   ]
  },
  {
   "cell_type": "code",
   "execution_count": 123,
   "metadata": {},
   "outputs": [],
   "source": []
  },
  {
   "cell_type": "code",
   "execution_count": 128,
   "metadata": {},
   "outputs": [],
   "source": []
  },
  {
   "cell_type": "code",
   "execution_count": 112,
   "metadata": {},
   "outputs": [
    {
     "name": "stdout",
     "output_type": "stream",
     "text": [
      "38.6 µs ± 2.38 µs per loop (mean ± std. dev. of 7 runs, 10000 loops each)\n"
     ]
    }
   ],
   "source": [
    "%%timeit\n",
    "sim = np.array(tuple(foo[x][3][test] for x in range(len(foo))))"
   ]
  },
  {
   "cell_type": "code",
   "execution_count": 117,
   "metadata": {},
   "outputs": [
    {
     "data": {
      "text/plain": [
       "(1000,)"
      ]
     },
     "execution_count": 117,
     "metadata": {},
     "output_type": "execute_result"
    }
   ],
   "source": [
    "np.sum(sim, axis=0).shape"
   ]
  },
  {
   "cell_type": "code",
   "execution_count": 114,
   "metadata": {},
   "outputs": [
    {
     "data": {
      "text/plain": [
       "(7, 1000)"
      ]
     },
     "execution_count": 114,
     "metadata": {},
     "output_type": "execute_result"
    }
   ],
   "source": [
    "sim.shape"
   ]
  },
  {
   "cell_type": "code",
   "execution_count": 15,
   "metadata": {},
   "outputs": [
    {
     "data": {
      "text/plain": [
       "8.0096e-05"
      ]
     },
     "execution_count": 15,
     "metadata": {},
     "output_type": "execute_result"
    }
   ],
   "source": [
    "sizeof.sizeof(test[0])"
   ]
  },
  {
   "cell_type": "code",
   "execution_count": 17,
   "metadata": {},
   "outputs": [
    {
     "data": {
      "text/plain": [
       "80096"
      ]
     },
     "execution_count": 17,
     "metadata": {},
     "output_type": "execute_result"
    }
   ],
   "source": [
    "sizeof.getsizeof(row)"
   ]
  },
  {
   "cell_type": "code",
   "execution_count": 28,
   "metadata": {},
   "outputs": [],
   "source": [
    "del list"
   ]
  },
  {
   "cell_type": "code",
   "execution_count": 32,
   "metadata": {},
   "outputs": [],
   "source": [
    "test = np.random.randint(0, 9999, 1000)"
   ]
  },
  {
   "cell_type": "code",
   "execution_count": 23,
   "metadata": {},
   "outputs": [
    {
     "name": "stdout",
     "output_type": "stream",
     "text": [
      "2.39 µs ± 133 ns per loop (mean ± std. dev. of 7 runs, 100000 loops each)\n"
     ]
    }
   ],
   "source": [
    "%%timeit\n",
    "row[([1, 45, 57, 23, 1000, 240, 27, 500, ])]"
   ]
  },
  {
   "cell_type": "code",
   "execution_count": 33,
   "metadata": {},
   "outputs": [
    {
     "name": "stdout",
     "output_type": "stream",
     "text": [
      "2.95 µs ± 173 ns per loop (mean ± std. dev. of 7 runs, 100000 loops each)\n"
     ]
    }
   ],
   "source": [
    "%%timeit\n",
    "row[test]"
   ]
  },
  {
   "cell_type": "code",
   "execution_count": 24,
   "metadata": {},
   "outputs": [],
   "source": [
    "bar = np.zeros(10000)"
   ]
  },
  {
   "cell_type": "code",
   "execution_count": 102,
   "metadata": {},
   "outputs": [
    {
     "data": {
      "text/plain": [
       "(1000,)"
      ]
     },
     "execution_count": 102,
     "metadata": {},
     "output_type": "execute_result"
    }
   ],
   "source": [
    "test.shape"
   ]
  },
  {
   "cell_type": "code",
   "execution_count": 35,
   "metadata": {},
   "outputs": [
    {
     "name": "stdout",
     "output_type": "stream",
     "text": [
      "4.39 µs ± 401 ns per loop (mean ± std. dev. of 7 runs, 100000 loops each)\n"
     ]
    }
   ],
   "source": [
    "%%timeit\n",
    "bar[test] = 1"
   ]
  },
  {
   "cell_type": "code",
   "execution_count": 36,
   "metadata": {},
   "outputs": [
    {
     "name": "stdout",
     "output_type": "stream",
     "text": [
      "26.8 µs ± 1.44 µs per loop (mean ± std. dev. of 7 runs, 10000 loops each)\n"
     ]
    }
   ],
   "source": [
    "%%timeit\n",
    "np.multiply(row, bar)"
   ]
  },
  {
   "cell_type": "markdown",
   "metadata": {},
   "source": [
    "Explored ideas of singleton pattern and Borg, but decided that just designing a module for Model is best. "
   ]
  },
  {
   "cell_type": "code",
   "execution_count": 1,
   "metadata": {},
   "outputs": [],
   "source": [
    "class Borg:\n",
    "    __shared_state = {}\n",
    "    def __init__(self):\n",
    "        self.__dict__ = self.__shared_state"
   ]
  },
  {
   "cell_type": "code",
   "execution_count": 9,
   "metadata": {},
   "outputs": [],
   "source": [
    "u_vec = np.zeros(10000)"
   ]
  },
  {
   "cell_type": "code",
   "execution_count": 16,
   "metadata": {},
   "outputs": [],
   "source": [
    "class Foo():\n",
    "    def __init__(self, arg):\n",
    "        self.x = arg"
   ]
  },
  {
   "cell_type": "code",
   "execution_count": 24,
   "metadata": {},
   "outputs": [],
   "source": [
    "test = Foo(1)"
   ]
  },
  {
   "cell_type": "code",
   "execution_count": 26,
   "metadata": {},
   "outputs": [],
   "source": [
    "del test"
   ]
  },
  {
   "cell_type": "code",
   "execution_count": 11,
   "metadata": {},
   "outputs": [],
   "source": [
    "liked = set([1, 3, 5])"
   ]
  },
  {
   "cell_type": "code",
   "execution_count": 31,
   "metadata": {},
   "outputs": [],
   "source": [
    "liked.add(4)"
   ]
  },
  {
   "cell_type": "code",
   "execution_count": 27,
   "metadata": {},
   "outputs": [],
   "source": [
    "bar = set([1, 3, 5])"
   ]
  },
  {
   "cell_type": "code",
   "execution_count": 33,
   "metadata": {},
   "outputs": [
    {
     "data": {
      "text/plain": [
       "{4}"
      ]
     },
     "execution_count": 33,
     "metadata": {},
     "output_type": "execute_result"
    }
   ],
   "source": [
    "liked.intersection_update"
   ]
  },
  {
   "cell_type": "code",
   "execution_count": 35,
   "metadata": {},
   "outputs": [],
   "source": [
    "if bar.difference(liked):\n",
    "    print('Foo')"
   ]
  },
  {
   "cell_type": "code",
   "execution_count": 30,
   "metadata": {},
   "outputs": [
    {
     "data": {
      "text/plain": [
       "True"
      ]
     },
     "execution_count": 30,
     "metadata": {},
     "output_type": "execute_result"
    }
   ],
   "source": [
    "if liked==bar"
   ]
  },
  {
   "cell_type": "code",
   "execution_count": 14,
   "metadata": {},
   "outputs": [],
   "source": [
    "u_vec[list(liked)] = 1"
   ]
  },
  {
   "cell_type": "code",
   "execution_count": 15,
   "metadata": {},
   "outputs": [
    {
     "data": {
      "text/plain": [
       "array([ 0.,  1.,  0.,  1.,  0.,  1.,  0.,  0.,  0.,  0.])"
      ]
     },
     "execution_count": 15,
     "metadata": {},
     "output_type": "execute_result"
    }
   ],
   "source": [
    "u_vec[:10]"
   ]
  },
  {
   "cell_type": "code",
   "execution_count": 2,
   "metadata": {},
   "outputs": [],
   "source": [
    "test = Borg"
   ]
  },
  {
   "cell_type": "code",
   "execution_count": null,
   "metadata": {},
   "outputs": [],
   "source": []
  },
  {
   "cell_type": "code",
   "execution_count": 3,
   "metadata": {},
   "outputs": [
    {
     "data": {
      "text/plain": [
       "__main__.Borg"
      ]
     },
     "execution_count": 3,
     "metadata": {},
     "output_type": "execute_result"
    }
   ],
   "source": [
    "test"
   ]
  },
  {
   "cell_type": "code",
   "execution_count": 4,
   "metadata": {},
   "outputs": [],
   "source": [
    "Foo = Borg"
   ]
  },
  {
   "cell_type": "code",
   "execution_count": 5,
   "metadata": {},
   "outputs": [
    {
     "name": "stdout",
     "output_type": "stream",
     "text": [
      "<class '__main__.Borg'>\n"
     ]
    }
   ],
   "source": [
    "print(Foo)"
   ]
  },
  {
   "cell_type": "code",
   "execution_count": 7,
   "metadata": {},
   "outputs": [
    {
     "data": {
      "text/plain": [
       "mappingproxy({'_Borg__shared_state': {},\n",
       "              '__dict__': <attribute '__dict__' of 'Borg' objects>,\n",
       "              '__doc__': None,\n",
       "              '__init__': <function __main__.Borg.__init__>,\n",
       "              '__module__': '__main__',\n",
       "              '__weakref__': <attribute '__weakref__' of 'Borg' objects>})"
      ]
     },
     "execution_count": 7,
     "metadata": {},
     "output_type": "execute_result"
    }
   ],
   "source": [
    "Foo.__dict__"
   ]
  },
  {
   "cell_type": "code",
   "execution_count": 7,
   "metadata": {},
   "outputs": [
    {
     "data": {
      "text/plain": [
       "<__main__.Model at 0x7efd443d84a8>"
      ]
     },
     "execution_count": 7,
     "metadata": {},
     "output_type": "execute_result"
    }
   ],
   "source": [
    "Foo"
   ]
  },
  {
   "cell_type": "code",
   "execution_count": 5,
   "metadata": {},
   "outputs": [],
   "source": [
    "Bar = Model('foo')"
   ]
  },
  {
   "cell_type": "code",
   "execution_count": 29,
   "metadata": {},
   "outputs": [
    {
     "data": {
      "text/plain": [
       "'foo'"
      ]
     },
     "execution_count": 29,
     "metadata": {},
     "output_type": "execute_result"
    }
   ],
   "source": [
    "Bar.val"
   ]
  },
  {
   "cell_type": "code",
   "execution_count": 2,
   "metadata": {},
   "outputs": [],
   "source": [
    "%run lib/helper/load_rec_mats.py"
   ]
  },
  {
   "cell_type": "code",
   "execution_count": 3,
   "metadata": {},
   "outputs": [],
   "source": [
    "%run lib/helper/load_search.py"
   ]
  },
  {
   "cell_type": "code",
   "execution_count": 6,
   "metadata": {},
   "outputs": [],
   "source": [
    "from lib.recommend import get_sim\n",
    "import numpy as np"
   ]
  },
  {
   "cell_type": "code",
   "execution_count": 5,
   "metadata": {},
   "outputs": [],
   "source": [
    "class Recommender():\n",
    "    \n",
    "    def __init__(self, n_games=10000):\n",
    "        self.u_vec = np.zeros(n_games)\n",
    "        self.feat_bag = set()\n",
    "        self.added_to_bag = set()\n",
    "        self.liked = set()\n",
    "        self.rated = set()\n",
    "        self.item_bag = set()\n",
    "        self.last_get = 0\n",
    "        \n",
    "    def rate(self, gs):\n",
    "        self.u_vec[gs] = 1\n",
    "        self.liked.add(gs)\n",
    "        self.rated.add(gs)\n",
    "        \n",
    "    def get_bag(self, K=100):\n",
    "        to_get = self.liked.difference(self.added_to_bag)\n",
    "        while to_get:\n",
    "            game = to_get.pop()\n",
    "            top_feat_items, sim = get_sim.by_feats(game, K, feat_mat)\n",
    "            self.feat_bag.update(top_feat_items)\n",
    "            top_item_items, c_sim = get_sim.by_items(game, K, item_mat)\n",
    "            self.item_bag.update(top_item_items)\n",
    "            self.added_to_bag.add(game)\n",
    "        \n",
    "    def clean_bag(self):\n",
    "        self.feat_bag.difference_update(self.rated)\n",
    "        self.item_bag.difference_update(self.rated)\n",
    "        exps = set(exp_mat[list(self.rated)].nonzero()[1])\n",
    "        self.feat_bag.difference_update(exps)\n",
    "        self.item_bag.difference_update(exps)\n",
    "        \n",
    "    def update_bag_vec(self):\n",
    "        self.feat_bag_vec = np.zeros_like(self.u_vec)\n",
    "        self.feat_bag_vec[list(self.feat_bag)] = 1\n",
    "        self.item_bag_vec = np.zeros_like(self.u_vec)\n",
    "        self.item_bag_vec[list(self.item_bag)] = 1\n",
    "        \n",
    "    def get_cum_vecs(self, item_weight=.7, feat_weight=.3):\n",
    "        rated_sim_bag = np.multiply(item_mat[list(self.rated)], self.feat_bag_vec)\n",
    "        cum_corr_vec = np.sum(rated_sim_bag, axis=0)\n",
    "        self.bias_corr = np.multiply(cum_corr_vec, item_bias)\n",
    "        rated_corr_bag = np.multiply(feat_mat[list(self.rated)], self.item_bag_vec)\n",
    "        cum_sim_vec = np.sum(rated_corr_bag, axis=0)\n",
    "        self.bias_sim = np.multiply(cum_sim_vec, item_bias)\n",
    "        self.comb_vec = np.add(np.multiply(self.bias_corr, item_weight), np.multiply(self.bias_sim, feat_weight))\n",
    "        \n",
    "    def get(self, n):\n",
    "        if len(self.rated) > self.last_get:\n",
    "            self.get_bag()\n",
    "            self.clean_bag()\n",
    "            self.update_bag_vec()\n",
    "            self.get_cum_vecs()\n",
    "        comb_recs = np.argsort(self.comb_vec)[:-(n+1):-1]\n",
    "        self.top_games = search_gname(comb_recs)\n",
    "        _ = [print(game) for game in self.top_games]\n",
    "        self.last_get = len(self.rated)"
   ]
  },
  {
   "cell_type": "code",
   "execution_count": null,
   "metadata": {},
   "outputs": [],
   "source": [
    "def search_gname(gs_list):\n",
    "    '''\n",
    "    Return of list of gnames from list of gs.\n",
    "    '''\n",
    "    return [gname[gs] for gs in gs_list]"
   ]
  },
  {
   "cell_type": "code",
   "execution_count": 7,
   "metadata": {},
   "outputs": [],
   "source": [
    "global feat_mat\n",
    "global item_mat\n",
    "global exp_mat\n",
    "global gname"
   ]
  },
  {
   "cell_type": "code",
   "execution_count": 20,
   "metadata": {},
   "outputs": [],
   "source": [
    "New_user = Recommender()"
   ]
  },
  {
   "cell_type": "code",
   "execution_count": 22,
   "metadata": {},
   "outputs": [],
   "source": [
    "New_user.rate(gs['King of Tokyo'])"
   ]
  },
  {
   "cell_type": "code",
   "execution_count": 23,
   "metadata": {},
   "outputs": [],
   "source": [
    "New_user.rate(gs['Agricola'])"
   ]
  },
  {
   "cell_type": "code",
   "execution_count": 24,
   "metadata": {},
   "outputs": [],
   "source": [
    "New_user.rate(gs['Magic: The Gathering'])"
   ]
  },
  {
   "cell_type": "code",
   "execution_count": 25,
   "metadata": {},
   "outputs": [
    {
     "name": "stdout",
     "output_type": "stream",
     "text": [
      "Masmorra de DADOS\n",
      "In Flanders Field\n",
      "Le Havre\n",
      "Fields of Arle\n",
      "Nusfjord\n",
      "Pixel Tactics 4\n",
      "Ninja Dice: Location Cards\n",
      "Tomb Raider Collectible Card Game\n",
      "Capo Dei Capi\n",
      "Tiny Epic Galaxies Deluxe Edition\n",
      "Food Chain\n",
      "Summoner Wars: Phoenix Elves vs Tundra Orcs\n",
      "Summoner Wars: Guild Dwarves vs Cave Goblins\n",
      "Force of Will\n",
      "Warhammer: Invasion\n",
      "Risk Legacy\n",
      "Star Wars: Destiny – Rey Starter Set\n",
      "The Voyages of Marco Polo\n",
      "Summoner Wars: Master Set\n",
      "World of Warcraft Trading Card Game\n",
      "Nations\n",
      "Last Will\n",
      "Belfort\n",
      "Agricola: All Creatures Big and Small – More Buildings Big and Small\n",
      "Pixel Tactics 2\n",
      "Lewis & Clark\n",
      "La Granja\n",
      "Lords of War:  Elves versus Lizardmen\n",
      "Machi Koro: Deluxe Edition\n",
      "Suburbia\n",
      "Cuba: El Presidente\n",
      "Alien Frontiers\n",
      "Dojo Kun\n",
      "Viticulture: Arboriculture Expansion\n",
      "Risk: Game of Thrones\n",
      "Terraforming Mars\n",
      "Las Vegas\n",
      "Star Wars: Destiny – Kylo Ren Starter Set\n",
      "Ashes: Rise of the Phoenixborn\n",
      "Yamslam\n",
      "Steam Park\n",
      "At the Gates of Loyang\n",
      "Mombasa\n",
      "Viticulture Essential Edition\n",
      "Tournay\n",
      "Pixel Tactics 3\n",
      "Würfel Bohnanza\n",
      "Hero Realms\n",
      "Star Wars: Rebellion\n",
      "Alchemists\n"
     ]
    }
   ],
   "source": [
    "New_user.get(50)"
   ]
  },
  {
   "cell_type": "code",
   "execution_count": null,
   "metadata": {},
   "outputs": [],
   "source": []
  }
 ],
 "metadata": {
  "kernelspec": {
   "display_name": "Python 3",
   "language": "python",
   "name": "python3"
  },
  "language_info": {
   "codemirror_mode": {
    "name": "ipython",
    "version": 3
   },
   "file_extension": ".py",
   "mimetype": "text/x-python",
   "name": "python",
   "nbconvert_exporter": "python",
   "pygments_lexer": "ipython3",
   "version": "3.6.3"
  }
 },
 "nbformat": 4,
 "nbformat_minor": 2
}
