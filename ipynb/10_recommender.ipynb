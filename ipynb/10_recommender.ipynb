{
 "cells": [
  {
   "cell_type": "code",
   "execution_count": 1,
   "metadata": {},
   "outputs": [
    {
     "name": "stdout",
     "output_type": "stream",
     "text": [
      "/home/jovyan\n"
     ]
    }
   ],
   "source": [
    "cd .."
   ]
  },
  {
   "cell_type": "code",
   "execution_count": 2,
   "metadata": {},
   "outputs": [],
   "source": [
    "%run lib/helper/load_rec_mats.py"
   ]
  },
  {
   "cell_type": "code",
   "execution_count": 3,
   "metadata": {},
   "outputs": [],
   "source": [
    "%run lib/helper/load_search.py"
   ]
  },
  {
   "cell_type": "code",
   "execution_count": 4,
   "metadata": {},
   "outputs": [],
   "source": [
    "from lib.recommend import get_sim\n",
    "import numpy as np"
   ]
  },
  {
   "cell_type": "code",
   "execution_count": 5,
   "metadata": {},
   "outputs": [],
   "source": [
    "class Recommender():\n",
    "    \n",
    "    def __init__(self, n_games=10000):\n",
    "        self.u_vec = np.zeros(n_games)\n",
    "        self.feat_bag = set()\n",
    "        self.added_to_bag = set()\n",
    "        self.liked = set()\n",
    "        self.rated = set()\n",
    "        self.item_bag = set()\n",
    "        self.last_get = 0\n",
    "        \n",
    "    def rate(self, gs):\n",
    "        self.u_vec[gs] = 1\n",
    "        self.liked.add(gs)\n",
    "        self.rated.add(gs)\n",
    "        \n",
    "    def get_bag(self, K=100):\n",
    "        to_get = self.liked.difference(self.added_to_bag)\n",
    "        while to_get:\n",
    "            game = to_get.pop()\n",
    "            top_feat_items, sim = get_sim.by_feats(game, K, feat_mat)\n",
    "            self.feat_bag.update(top_feat_items)\n",
    "            top_item_items, c_sim = get_sim.by_items(game, K, item_mat)\n",
    "            self.item_bag.update(top_item_items)\n",
    "            self.added_to_bag.add(game)\n",
    "        \n",
    "    def clean_bag(self):\n",
    "        self.feat_bag.difference_update(self.rated)\n",
    "        self.item_bag.difference_update(self.rated)\n",
    "        exps = set(exp_mat[list(self.rated)].nonzero()[1])\n",
    "        self.feat_bag.difference_update(exps)\n",
    "        self.item_bag.difference_update(exps)\n",
    "        \n",
    "    def update_bag_vec(self):\n",
    "        self.feat_bag_vec = np.zeros_like(self.u_vec)\n",
    "        self.feat_bag_vec[list(self.feat_bag)] = 1\n",
    "        self.item_bag_vec = np.zeros_like(self.u_vec)\n",
    "        self.item_bag_vec[list(self.item_bag)] = 1\n",
    "        \n",
    "    def get_cum_vecs(self, item_weight=.7, feat_weight=.3):\n",
    "        rated_sim_bag = np.multiply(item_mat[list(self.rated)], self.feat_bag_vec)\n",
    "        cum_corr_vec = np.sum(rated_sim_bag, axis=0)\n",
    "        self.bias_corr = np.multiply(cum_corr_vec, item_bias)\n",
    "        rated_corr_bag = np.multiply(feat_mat[list(self.rated)], self.item_bag_vec)\n",
    "        cum_sim_vec = np.sum(rated_corr_bag, axis=0)\n",
    "        self.bias_sim = np.multiply(cum_sim_vec, item_bias)\n",
    "        self.comb_vec = np.add(np.multiply(self.bias_corr, item_weight), np.multiply(self.bias_sim, feat_weight))\n",
    "        \n",
    "    def get(self, n):\n",
    "        if len(self.rated) > self.last_get:\n",
    "            self.get_bag()\n",
    "            self.clean_bag()\n",
    "            self.update_bag_vec()\n",
    "            self.get_cum_vecs()\n",
    "        comb_recs = np.argsort(self.comb_vec)[:-(n+1):-1]\n",
    "        self.top_games = search_gname(comb_recs)\n",
    "        _ = [print(game) for game in self.top_games]\n",
    "        self.last_get = len(self.rated)"
   ]
  },
  {
   "cell_type": "code",
   "execution_count": 6,
   "metadata": {},
   "outputs": [],
   "source": [
    "def search_gname(gs_list):\n",
    "    '''\n",
    "    Return of list of gnames from list of gs.\n",
    "    '''\n",
    "    return [gname[gs] for gs in gs_list]"
   ]
  },
  {
   "cell_type": "code",
   "execution_count": 27,
   "metadata": {},
   "outputs": [],
   "source": [
    "New_user = Recommender()"
   ]
  },
  {
   "cell_type": "code",
   "execution_count": 14,
   "metadata": {},
   "outputs": [],
   "source": [
    "New_user.rate(gs['Werewolf'])"
   ]
  },
  {
   "cell_type": "code",
   "execution_count": 24,
   "metadata": {},
   "outputs": [],
   "source": [
    "New_user.rate(gs['Betrayal at House on the Hill'])"
   ]
  },
  {
   "cell_type": "code",
   "execution_count": 30,
   "metadata": {},
   "outputs": [],
   "source": [
    "New_user.rate(gs['Shadowrun: Crossfire'])"
   ]
  },
  {
   "cell_type": "code",
   "execution_count": 11,
   "metadata": {},
   "outputs": [],
   "source": [
    "New_user.rate(gs[''])"
   ]
  },
  {
   "cell_type": "code",
   "execution_count": 31,
   "metadata": {},
   "outputs": [
    {
     "name": "stdout",
     "output_type": "stream",
     "text": [
      "Die Legenden von Andor: Chada & Thorn\n",
      "Runebound: Sands of Al-Kalim\n",
      "XenoShyft: Dreadmire\n",
      "Too Many Bones\n",
      "Shadowrift\n",
      "The Big Book of Madness\n",
      "Attack on Titan: Deck-Building Game\n",
      "Shadows of Malice\n",
      "Pathfinder Adventure Card Game: Wrath of the Righteous – Base Set\n",
      "Warhammer Quest: The Adventure Card Game\n",
      "Gloom of Kilforth: A Fantasy Quest Game\n",
      "Runebound (Third Edition)\n",
      "XenoShyft: Onslaught\n",
      "One Deck Dungeon\n",
      "Pathfinder Adventure Card Game: Mummy's Mask – Base Set\n",
      "The Grizzled\n",
      "Legendary Encounters: An Alien Deck Building Game\n",
      "Aeon's End\n",
      "Legendary Encounters: A Firefly Deck Building Game\n",
      "Shadowscape\n",
      "Draconis Invasion\n",
      "Aeon's End: War Eternal\n",
      "Apocrypha Adventure Card Game\n",
      "Codex: Card-Time Strategy – Core Set\n",
      "Pathfinder Adventure Card Game: Skull & Shackles – Base Set\n",
      "Abduction\n",
      "Citadel of Blood\n",
      "Star Trek Deck Building Game: The Original Series\n",
      "Legends of Andor\n",
      "Darkest Night (First edition)\n",
      "Legendary Encounters: A Predator Deck Building Game\n",
      "Thunderstone Advance: Numenera\n",
      "Space Hulk: Death Angel – The Card Game: Tyranid Enemy Pack\n",
      "Mistfall\n",
      "Star Trek Deck Building Game: The Next Generation\n",
      "Lord of the Rings\n",
      "Mistfall: Kickstarter Edition\n",
      "Space Hulk: Death Angel – The Card Game\n",
      "Space Hulk: Death Angel – The Card Game – Mission Pack 1\n",
      "First Martians: Adventures on the Red Planet\n",
      "Pathfinder Adventure Card Game: Rise of the Runelords – Base Set\n",
      "Runebound (Third Edition): Unbreakable Bonds\n",
      "Puzzle Strike Shadows\n",
      "T.I.M.E Stories: A Prophecy of Dragons\n",
      "Space Hulk: Death Angel – The Card Game: Space Marine Pack 1\n",
      "Aventuria: Adventure Card Game\n",
      "Space Hulk: Death Angel – The Card Game – Deathwing Space Marine Pack\n",
      "T.I.M.E Stories\n",
      "Spellbound\n",
      "Legends of Andor: Journey to the North\n"
     ]
    }
   ],
   "source": [
    "New_user.get(50)"
   ]
  },
  {
   "cell_type": "code",
   "execution_count": 26,
   "metadata": {},
   "outputs": [
    {
     "data": {
      "text/plain": [
       "122240"
      ]
     },
     "execution_count": 26,
     "metadata": {},
     "output_type": "execute_result"
    }
   ],
   "source": [
    "gid[gs['Last Night on Earth: Timber Peak']]"
   ]
  },
  {
   "cell_type": "code",
   "execution_count": null,
   "metadata": {},
   "outputs": [],
   "source": []
  }
 ],
 "metadata": {
  "kernelspec": {
   "display_name": "Python 3",
   "language": "python",
   "name": "python3"
  },
  "language_info": {
   "codemirror_mode": {
    "name": "ipython",
    "version": 3
   },
   "file_extension": ".py",
   "mimetype": "text/x-python",
   "name": "python",
   "nbconvert_exporter": "python",
   "pygments_lexer": "ipython3",
   "version": "3.6.2"
  }
 },
 "nbformat": 4,
 "nbformat_minor": 2
}
