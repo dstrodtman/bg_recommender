{
 "cells": [
  {
   "cell_type": "code",
   "execution_count": 1,
   "metadata": {},
   "outputs": [
    {
     "name": "stdout",
     "output_type": "stream",
     "text": [
      "/home/jovyan\n"
     ]
    }
   ],
   "source": [
    "cd .."
   ]
  },
  {
   "cell_type": "code",
   "execution_count": 2,
   "metadata": {},
   "outputs": [],
   "source": [
    "%run lib/helper/load_rec_mats.py"
   ]
  },
  {
   "cell_type": "code",
   "execution_count": 4,
   "metadata": {},
   "outputs": [],
   "source": [
    "del item_bias"
   ]
  },
  {
   "cell_type": "code",
   "execution_count": 5,
   "metadata": {},
   "outputs": [],
   "source": [
    "del exp_mat"
   ]
  },
  {
   "cell_type": "code",
   "execution_count": 6,
   "metadata": {},
   "outputs": [],
   "source": [
    "import numpy as np"
   ]
  },
  {
   "cell_type": "code",
   "execution_count": 9,
   "metadata": {},
   "outputs": [
    {
     "data": {
      "text/plain": [
       "-0.71530697023799727"
      ]
     },
     "execution_count": 9,
     "metadata": {},
     "output_type": "execute_result"
    }
   ],
   "source": [
    "np.min(item_mat)"
   ]
  },
  {
   "cell_type": "code",
   "execution_count": 10,
   "metadata": {},
   "outputs": [
    {
     "data": {
      "text/plain": [
       "-0.34598041926981099"
      ]
     },
     "execution_count": 10,
     "metadata": {},
     "output_type": "execute_result"
    }
   ],
   "source": [
    "np.min(feat_mat)"
   ]
  },
  {
   "cell_type": "code",
   "execution_count": 3,
   "metadata": {},
   "outputs": [],
   "source": [
    "%run lib/helper/load_search.py"
   ]
  },
  {
   "cell_type": "code",
   "execution_count": 6,
   "metadata": {},
   "outputs": [],
   "source": [
    "from lib.recommend import get_sim\n",
    "import numpy as np"
   ]
  },
  {
   "cell_type": "code",
   "execution_count": 5,
   "metadata": {},
   "outputs": [],
   "source": [
    "class Recommender():\n",
    "    \n",
    "    def __init__(self, n_games=10000):\n",
    "        self.u_vec = np.zeros(n_games)\n",
    "        self.feat_bag = set()\n",
    "        self.added_to_bag = set()\n",
    "        self.liked = set()\n",
    "        self.rated = set()\n",
    "        self.item_bag = set()\n",
    "        self.last_get = 0\n",
    "        \n",
    "    def rate(self, gs):\n",
    "        self.u_vec[gs] = 1\n",
    "        self.liked.add(gs)\n",
    "        self.rated.add(gs)\n",
    "        \n",
    "    def get_bag(self, K=100):\n",
    "        to_get = self.liked.difference(self.added_to_bag)\n",
    "        while to_get:\n",
    "            game = to_get.pop()\n",
    "            top_feat_items, sim = get_sim.by_feats(game, K, feat_mat)\n",
    "            self.feat_bag.update(top_feat_items)\n",
    "            top_item_items, c_sim = get_sim.by_items(game, K, item_mat)\n",
    "            self.item_bag.update(top_item_items)\n",
    "            self.added_to_bag.add(game)\n",
    "        \n",
    "    def clean_bag(self):\n",
    "        self.feat_bag.difference_update(self.rated)\n",
    "        self.item_bag.difference_update(self.rated)\n",
    "        exps = set(exp_mat[list(self.rated)].nonzero()[1])\n",
    "        self.feat_bag.difference_update(exps)\n",
    "        self.item_bag.difference_update(exps)\n",
    "        \n",
    "    def update_bag_vec(self):\n",
    "        self.feat_bag_vec = np.zeros_like(self.u_vec)\n",
    "        self.feat_bag_vec[list(self.feat_bag)] = 1\n",
    "        self.item_bag_vec = np.zeros_like(self.u_vec)\n",
    "        self.item_bag_vec[list(self.item_bag)] = 1\n",
    "        \n",
    "    def get_cum_vecs(self, item_weight=.7, feat_weight=.3):\n",
    "        rated_sim_bag = np.multiply(item_mat[list(self.rated)], self.feat_bag_vec)\n",
    "        cum_corr_vec = np.sum(rated_sim_bag, axis=0)\n",
    "        self.bias_corr = np.multiply(cum_corr_vec, item_bias)\n",
    "        rated_corr_bag = np.multiply(feat_mat[list(self.rated)], self.item_bag_vec)\n",
    "        cum_sim_vec = np.sum(rated_corr_bag, axis=0)\n",
    "        self.bias_sim = np.multiply(cum_sim_vec, item_bias)\n",
    "        self.comb_vec = np.add(np.multiply(self.bias_corr, item_weight), np.multiply(self.bias_sim, feat_weight))\n",
    "        \n",
    "    def get(self, n):\n",
    "        if len(self.rated) > self.last_get:\n",
    "            self.get_bag()\n",
    "            self.clean_bag()\n",
    "            self.update_bag_vec()\n",
    "            self.get_cum_vecs()\n",
    "        comb_recs = np.argsort(self.comb_vec)[:-(n+1):-1]\n",
    "        self.top_games = search_gname(comb_recs)\n",
    "        _ = [print(game) for game in self.top_games]\n",
    "        self.last_get = len(self.rated)"
   ]
  },
  {
   "cell_type": "code",
   "execution_count": null,
   "metadata": {},
   "outputs": [],
   "source": [
    "def search_gname(gs_list):\n",
    "    '''\n",
    "    Return of list of gnames from list of gs.\n",
    "    '''\n",
    "    return [gname[gs] for gs in gs_list]"
   ]
  },
  {
   "cell_type": "code",
   "execution_count": 7,
   "metadata": {},
   "outputs": [],
   "source": [
    "global feat_mat\n",
    "global item_mat\n",
    "global exp_mat\n",
    "global gname"
   ]
  },
  {
   "cell_type": "code",
   "execution_count": 20,
   "metadata": {},
   "outputs": [],
   "source": [
    "New_user = Recommender()"
   ]
  },
  {
   "cell_type": "code",
   "execution_count": 22,
   "metadata": {},
   "outputs": [],
   "source": [
    "New_user.rate(gs['King of Tokyo'])"
   ]
  },
  {
   "cell_type": "code",
   "execution_count": 23,
   "metadata": {},
   "outputs": [],
   "source": [
    "New_user.rate(gs['Agricola'])"
   ]
  },
  {
   "cell_type": "code",
   "execution_count": 24,
   "metadata": {},
   "outputs": [],
   "source": [
    "New_user.rate(gs['Magic: The Gathering'])"
   ]
  },
  {
   "cell_type": "code",
   "execution_count": 25,
   "metadata": {},
   "outputs": [
    {
     "name": "stdout",
     "output_type": "stream",
     "text": [
      "Masmorra de DADOS\n",
      "In Flanders Field\n",
      "Le Havre\n",
      "Fields of Arle\n",
      "Nusfjord\n",
      "Pixel Tactics 4\n",
      "Ninja Dice: Location Cards\n",
      "Tomb Raider Collectible Card Game\n",
      "Capo Dei Capi\n",
      "Tiny Epic Galaxies Deluxe Edition\n",
      "Food Chain\n",
      "Summoner Wars: Phoenix Elves vs Tundra Orcs\n",
      "Summoner Wars: Guild Dwarves vs Cave Goblins\n",
      "Force of Will\n",
      "Warhammer: Invasion\n",
      "Risk Legacy\n",
      "Star Wars: Destiny – Rey Starter Set\n",
      "The Voyages of Marco Polo\n",
      "Summoner Wars: Master Set\n",
      "World of Warcraft Trading Card Game\n",
      "Nations\n",
      "Last Will\n",
      "Belfort\n",
      "Agricola: All Creatures Big and Small – More Buildings Big and Small\n",
      "Pixel Tactics 2\n",
      "Lewis & Clark\n",
      "La Granja\n",
      "Lords of War:  Elves versus Lizardmen\n",
      "Machi Koro: Deluxe Edition\n",
      "Suburbia\n",
      "Cuba: El Presidente\n",
      "Alien Frontiers\n",
      "Dojo Kun\n",
      "Viticulture: Arboriculture Expansion\n",
      "Risk: Game of Thrones\n",
      "Terraforming Mars\n",
      "Las Vegas\n",
      "Star Wars: Destiny – Kylo Ren Starter Set\n",
      "Ashes: Rise of the Phoenixborn\n",
      "Yamslam\n",
      "Steam Park\n",
      "At the Gates of Loyang\n",
      "Mombasa\n",
      "Viticulture Essential Edition\n",
      "Tournay\n",
      "Pixel Tactics 3\n",
      "Würfel Bohnanza\n",
      "Hero Realms\n",
      "Star Wars: Rebellion\n",
      "Alchemists\n"
     ]
    }
   ],
   "source": [
    "New_user.get(50)"
   ]
  },
  {
   "cell_type": "code",
   "execution_count": null,
   "metadata": {},
   "outputs": [],
   "source": []
  }
 ],
 "metadata": {
  "kernelspec": {
   "display_name": "Python 3",
   "language": "python",
   "name": "python3"
  },
  "language_info": {
   "codemirror_mode": {
    "name": "ipython",
    "version": 3
   },
   "file_extension": ".py",
   "mimetype": "text/x-python",
   "name": "python",
   "nbconvert_exporter": "python",
   "pygments_lexer": "ipython3",
   "version": "3.6.2"
  }
 },
 "nbformat": 4,
 "nbformat_minor": 2
}
